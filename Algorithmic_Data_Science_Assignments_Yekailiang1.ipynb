{
  "nbformat": 4,
  "nbformat_minor": 0,
  "metadata": {
    "colab": {
      "name": "Algorithmic Data Science Assignments - Yekailiang",
      "version": "0.3.2",
      "provenance": [],
      "collapsed_sections": [],
      "include_colab_link": true
    },
    "kernelspec": {
      "display_name": "Python 3",
      "language": "python",
      "name": "python3"
    }
  },
  "cells": [
    {
      "cell_type": "markdown",
      "metadata": {
        "id": "view-in-github",
        "colab_type": "text"
      },
      "source": [
        "<a href=\"https://colab.research.google.com/github/z1qsx/qtcreat/blob/master/Algorithmic_Data_Science_Assignments_Yekailiang1.ipynb\" target=\"_parent\"><img src=\"https://colab.research.google.com/assets/colab-badge.svg\" alt=\"Open In Colab\"/></a>"
      ]
    },
    {
      "metadata": {
        "id": "Z5s38lXg1pWy",
        "colab_type": "text"
      },
      "cell_type": "markdown",
      "source": [
        "### Overview\n",
        "For this assessment you are asked to submit a Jupyter notebook that reports on what you have learnt about the complexity of different algorithms for finding the similarities of documents using a bag-of-words representation.\n",
        "\n",
        "Scenario\n",
        "\n",
        "Imagine, you have a collection of d (d > 10) documents each containing at least w (w > 50) English words. For testing purposes, you may wish to construct or collect such a collection. A document can be represented as a bag-of-words, i.e., as the set of the words it contains together with associated frequencies. This is naturally stored using a Python dictionary. This can be converted to a dense vector (e.g., a numpy array) where there is a dimension for each of the V words in the English vocabulary.\n",
        "\n",
        "During lab sessions you will have been expected to have implemented various algorithms that will enable you to address each of the following five questions:"
      ]
    },
    {
      "metadata": {
        "id": "_pNQhDWC1pW8",
        "colab_type": "text"
      },
      "cell_type": "markdown",
      "source": [
        "### Introduction"
      ]
    },
    {
      "metadata": {
        "id": "yBXLQlyL1pW_",
        "colab_type": "text"
      },
      "cell_type": "markdown",
      "source": [
        "This part contains a selection of two different similarity algorithms. Some question and analysis are about running time of Jaccard'similarity and the cosine similarity. Therefore, the report explores what is different algorithms for Jaccard' similarity and cosine similarity and running time respectively.\n",
        "Estimating the constant for two similarities.\n",
        "\n",
        "This report in question 1, I will examine and analyse what is the theoretical worst-case running time of Jaccard's similarity measure applied to documents represented as bags of words.\n",
        "\n",
        "In question 2, I also examine and analyse what is the theoretical worst-case running time of the cosine similarity measure applied to documents represented as dense vectors to estimate the constant. After examined, I need to compare using the implementation of the dot product in numpy with my own implementation.\n",
        "\n",
        "After, examine two similarities, I need to examine and analyse that cosine similarity directly computes documents from sparse(dictionary) representations without converting them into dense(vector) representations. Moreover, its result will compare the previous implementation of the two similarities in question 3.\n",
        "Question 4 is which computes all-pairs similarities for a collection of documents. Furthermore, I examine what is the theoretical worst-case running time for computing all-pairs similarities and give an estimate of how long it would take to compute all-pairs similarities for 200K documents for both measures.\n",
        "\n",
        "Finally, for question 5,I need to  use the map-reduce computing paradigm to implement a parallel version of all-pairs similarities for documents and test them for accuracyits and average running time for 50 documents. "
      ]
    },
    {
      "metadata": {
        "id": "LAkf7dHi1pXH",
        "colab_type": "code",
        "colab": {}
      },
      "cell_type": "code",
      "source": [
        "#import module\n",
        "from nltk.tokenize import word_tokenize\n",
        "from nltk.corpus import brown\n",
        "from timeit import default_timer as timer\n",
        "import nltk\n",
        "from nltk.corpus import semcor\n",
        "from nltk.corpus import inaugural\n",
        "from nltk.corpus import stopwords\n",
        "import re\n",
        "%matplotlib inline\n",
        "import matplotlib.pyplot as plt\n",
        "import numpy as np\n",
        "import scipy.stats as stats\n",
        "import pandas as pd\n",
        "import time\n",
        "\n",
        "import operator\n",
        "from multiprocessing import Pool\n",
        "from collections import defaultdict"
      ],
      "execution_count": 0,
      "outputs": []
    },
    {
      "metadata": {
        "id": "s6xu1Xcb1urO",
        "colab_type": "code",
        "outputId": "c0ddddaa-2a91-4a15-d97e-a547f8810622",
        "colab": {
          "base_uri": "https://localhost:8080/",
          "height": 181
        }
      },
      "cell_type": "code",
      "source": [
        "nltk.download('brown')\n",
        "nltk.download('semcor')\n",
        "nltk.download('inaugural')\n",
        "nltk.download('stopwords')"
      ],
      "execution_count": 58,
      "outputs": [
        {
          "output_type": "stream",
          "text": [
            "[nltk_data] Downloading package brown to /root/nltk_data...\n",
            "[nltk_data]   Package brown is already up-to-date!\n",
            "[nltk_data] Downloading package semcor to /root/nltk_data...\n",
            "[nltk_data]   Package semcor is already up-to-date!\n",
            "[nltk_data] Downloading package inaugural to /root/nltk_data...\n",
            "[nltk_data]   Package inaugural is already up-to-date!\n",
            "[nltk_data] Downloading package stopwords to /root/nltk_data...\n",
            "[nltk_data]   Package stopwords is already up-to-date!\n"
          ],
          "name": "stdout"
        },
        {
          "output_type": "execute_result",
          "data": {
            "text/plain": [
              "True"
            ]
          },
          "metadata": {
            "tags": []
          },
          "execution_count": 58
        }
      ]
    },
    {
      "metadata": {
        "id": "ozcy4cIj1pXR",
        "colab_type": "text"
      },
      "cell_type": "markdown",
      "source": [
        "*collecting d> 10 documents *"
      ]
    },
    {
      "metadata": {
        "id": "CF4tT2Bg1pXT",
        "colab_type": "code",
        "colab": {}
      },
      "cell_type": "code",
      "source": [
        "#collecting 50 documents\n",
        "allfiles=semcor.fileids() #list of fileids\n",
        "len(allfiles)\n",
        "secor_doc=[]\n",
        "for temp in range(50):\n",
        "    secor_doc.append(semcor.words(allfiles[temp]))\n",
        "                                 "
      ],
      "execution_count": 0,
      "outputs": []
    },
    {
      "metadata": {
        "id": "e9FHCpOP1pXe",
        "colab_type": "text"
      },
      "cell_type": "markdown",
      "source": [
        "*Calculate average running time*"
      ]
    },
    {
      "metadata": {
        "id": "KioW9C721pXf",
        "colab_type": "code",
        "colab": {}
      },
      "cell_type": "code",
      "source": [
        "def timeit(somefunc,*args,repeats=10,**kwargs):\n",
        "    times=[]\n",
        "    while repeats>0:\n",
        "        starttime=time.time()\n",
        "        ans=somefunc(*args,**kwargs)\n",
        "        endtime=time.time()\n",
        "        timetaken=endtime-starttime\n",
        "        times.append(timetaken)\n",
        "        repeats-=1\n",
        "    \n",
        "    mean=np.mean(times)\n",
        " \n",
        "    return mean"
      ],
      "execution_count": 0,
      "outputs": []
    },
    {
      "metadata": {
        "id": "hK0lMhvM1pXq",
        "colab_type": "code",
        "colab": {}
      },
      "cell_type": "code",
      "source": [
        "def token_frequency(tokens):\n",
        "    freqs = {}\n",
        "    for token in tokens:\n",
        "        try :\n",
        "            freqs[token] += 1\n",
        "        except KeyError:\n",
        "            \n",
        "            freqs[token] = 1\n",
        "    return freqs"
      ],
      "execution_count": 0,
      "outputs": []
    },
    {
      "metadata": {
        "id": "iR6XHQiR1pXw",
        "colab_type": "code",
        "colab": {}
      },
      "cell_type": "code",
      "source": [
        "def normalise(tokenlist):\n",
        "    tokenlist=[token.lower() for token in tokenlist]\n",
        "    tokenlist=[\"NUM\" if token.isdigit() else token for token in tokenlist]\n",
        "    tokenlist=[\"Nth\" if (token.endswith((\"nd\",\"st\",\"th\")) and token[:-2].isdigit()) else token for token in tokenlist]\n",
        "    tokenlist=[\"NUM\" if re.search(\"^[+-]?[0-9]+\\.[0-9]\",token) else token for token in tokenlist]\n",
        "    return tokenlist\n",
        "\n",
        "def filter_stopwords(tokenlist):\n",
        "    stop = stopwords.words('english')\n",
        "    return [w for w in tokenlist if w.isalpha() and w not in stop]\n",
        "\n",
        "def make_bow(somestring):\n",
        "    rep=normalise(somestring)   \n",
        "    rep=filter_stopwords(rep)  \n",
        "    dict_rep={}\n",
        "    for token in rep:\n",
        "        dict_rep[token]=dict_rep.get(token,0)+1  #step 5\n",
        "    return(dict_rep)"
      ],
      "execution_count": 0,
      "outputs": []
    },
    {
      "metadata": {
        "id": "oagzvxZ_1pX8",
        "colab_type": "code",
        "colab": {}
      },
      "cell_type": "code",
      "source": [
        "my_doc=[]\n",
        "for doc_m in secor_doc:\n",
        "    my_doc.append(make_bow(doc_m))"
      ],
      "execution_count": 0,
      "outputs": []
    },
    {
      "metadata": {
        "id": "QVhr2fSH1pYD",
        "colab_type": "code",
        "colab": {}
      },
      "cell_type": "code",
      "source": [
        "def draw_chart(num_mx,time_my,names):\n",
        "    logxs=[np.log10(x) for x in num_mx]\n",
        "    logys=[np.log10(y) for y in time_my]\n",
        "    \n",
        "    plt.subplots_adjust(1,0,2.5,0.5)\n",
        "    plt.subplot(121)\n",
        "    plt.plot(num_mx,time_my)\n",
        "    plt.xlabel(\"Length of List\")\n",
        "    plt.ylabel(\"Average time\")\n",
        "    plt.title(\"Worst Case Running Time of \"+ names)\n",
        "    #plt.ylim(-6,-3)\n",
        "    \n",
        "    plt.subplot(122)\n",
        "    plt.scatter(logxs,logys)\n",
        "    plt.xlabel(\"Length of List\")\n",
        "    plt.ylabel(\"Average time\")\n",
        "    plt.title(\"Worst Case Running Time of \"+ names)\n",
        "    plt.show()\n",
        "    \n",
        "    return logxs,logys\n",
        "def cal_slope(logxs, logys):\n",
        "    slope, intercept, r_value, p_value, std_err = stats.linregress(logxs, logys)\n",
        "    print(\"Slope is {} and intercept is {}\".format(slope,intercept))\n",
        "    "
      ],
      "execution_count": 0,
      "outputs": []
    },
    {
      "metadata": {
        "id": "Epg_ueAl1pYQ",
        "colab_type": "text"
      },
      "cell_type": "markdown",
      "source": [
        "1.What is the theoretical worst case running time of Jaccard’s similarity measure applied to documents represented as bags of words? Show that this is the case empirically. Estimate the constant for your implementation and computer."
      ]
    },
    {
      "metadata": {
        "id": "Kfr6iIFZ1pYT",
        "colab_type": "text"
      },
      "cell_type": "markdown",
      "source": [
        "## The Jaccard' s similarity formula\n",
        "$J(A,B)=\\cfrac{\\mid A\\cap B\\mid}{\\mid A \\cup B\\mid}$"
      ]
    },
    {
      "metadata": {
        "id": "E6nIa04F1pYZ",
        "colab_type": "code",
        "colab": {}
      },
      "cell_type": "code",
      "source": [
        "def jac_sim(A, B):\n",
        "    U = A.keys() | B.keys()\n",
        "    I = A.keys() & B.keys()\n",
        "    jac =  len(I) / len(U)\n",
        "    return jac    "
      ],
      "execution_count": 0,
      "outputs": []
    },
    {
      "metadata": {
        "id": "WByDCdi61pYj",
        "colab_type": "text"
      },
      "cell_type": "markdown",
      "source": [
        "### The theoretical worst case running time analysis:\n",
        "Jaccard's similarity measure is the ratio of the cardinality (size) of the intersection of two sets to the cardinality of the union of two sets. If elements of two sets are the same, their similarity is 1. However, if elements of two sets are totally different, their similarity is 0. The Jaccard' similarity contains three steps. The first step is union of two sets. Its worst case running time is $O(len(doc1.keys)+len(doc2.keys))$. Secondly, the measure need to calculate intersection of two sets. So, its worst case running time is $O(len(document1.keys)*len(document2.keys))$. The final step is that results of union is divided by resluts of intersection. Therefore, according to the above analysis, the Jaccard' similarity worst running depend on document size, if the document size is n, the jaccard's similarity measure worst running is similar O(n) by the big O notation."
      ]
    },
    {
      "metadata": {
        "id": "zUu5G8GF1pYl",
        "colab_type": "code",
        "outputId": "e55ccbe8-34d9-48fb-cf4f-80e383ef5f32",
        "colab": {
          "base_uri": "https://localhost:8080/",
          "height": 382
        }
      },
      "cell_type": "code",
      "source": [
        "timexs=[]\n",
        "sima_x=[]\n",
        "doc_num=[]\n",
        "cal_ti=0\n",
        "for i in range(20):\n",
        "    timess = []\n",
        "    for ca_num in range(10):\n",
        "        start = timer()\n",
        "        sim_A_B = jac_sim(my_doc[0],my_doc[i])\n",
        "        end = timer()\n",
        "        cal_ti+=(end - start)\n",
        "    timek=(cal_ti/10)\n",
        "    sima_x.append(str(round(sim_A_B,4)))\n",
        "    timexs.append(round(end - start,7))\n",
        "    doc_num.append(len(my_doc[0])+len(my_doc[i]))\n",
        "    temp_s=round((len(my_doc[0]) - len(my_doc[i])*sim_A_B))\n",
        "    print(round(timek,7),round(sim_A_B,4),len(my_doc[0])+len(my_doc[i]),temp_s)"
      ],
      "execution_count": 0,
      "outputs": [
        {
          "output_type": "stream",
          "text": [
            "0.0001103 1.0 1294 0\n",
            "0.0004999 0.1438 1344 547\n",
            "0.0008841 0.0749 1335 595\n",
            "0.0010867 0.0918 1237 593\n",
            "0.0012137 0.0747 1324 596\n",
            "0.0013391 0.0965 1363 578\n",
            "0.0014627 0.0919 1283 589\n",
            "0.001592 0.0762 1441 587\n",
            "0.0017131 0.0839 1395 584\n",
            "0.0018874 0.0711 1476 588\n",
            "0.0020163 0.07 1436 592\n",
            "0.0021536 0.0732 1423 590\n",
            "0.0022672 0.0766 1251 601\n",
            "0.0023789 0.0704 1246 605\n",
            "0.0024981 0.096 1290 585\n",
            "0.0026005 0.0731 1130 612\n",
            "0.0027242 0.0716 1243 604\n",
            "0.0028581 0.0806 1301 594\n",
            "0.0029879 0.0665 1412 596\n",
            "0.0030975 0.0889 1188 599\n"
          ],
          "name": "stdout"
        }
      ]
    },
    {
      "metadata": {
        "id": "KBG3Y5lx1pYz",
        "colab_type": "code",
        "outputId": "f95b77e9-1401-4304-b3d1-2f1fb0f39d65",
        "colab": {}
      },
      "cell_type": "code",
      "source": [
        "store=[]\n",
        "store.append(timexs)\n",
        "\n",
        "store.append(sima_x)\n",
        "\n",
        "store.append(doc_num)\n",
        "\n",
        "df=pd.DataFrame(store, index=['Running time','similarity','number of words'])\n",
        "df=df.T\n",
        "df.sort_values('similarity')"
      ],
      "execution_count": 0,
      "outputs": [
        {
          "output_type": "execute_result",
          "data": {
            "text/html": [
              "<div>\n",
              "<style scoped>\n",
              "    .dataframe tbody tr th:only-of-type {\n",
              "        vertical-align: middle;\n",
              "    }\n",
              "\n",
              "    .dataframe tbody tr th {\n",
              "        vertical-align: top;\n",
              "    }\n",
              "\n",
              "    .dataframe thead th {\n",
              "        text-align: right;\n",
              "    }\n",
              "</style>\n",
              "<table border=\"1\" class=\"dataframe\">\n",
              "  <thead>\n",
              "    <tr style=\"text-align: right;\">\n",
              "      <th></th>\n",
              "      <th>Running time</th>\n",
              "      <th>similarity</th>\n",
              "      <th>number of words</th>\n",
              "    </tr>\n",
              "  </thead>\n",
              "  <tbody>\n",
              "    <tr>\n",
              "      <th>18</th>\n",
              "      <td>9.05e-05</td>\n",
              "      <td>0.0665</td>\n",
              "      <td>1412</td>\n",
              "    </tr>\n",
              "    <tr>\n",
              "      <th>10</th>\n",
              "      <td>0.0001331</td>\n",
              "      <td>0.07</td>\n",
              "      <td>1436</td>\n",
              "    </tr>\n",
              "    <tr>\n",
              "      <th>13</th>\n",
              "      <td>0.0001138</td>\n",
              "      <td>0.0704</td>\n",
              "      <td>1246</td>\n",
              "    </tr>\n",
              "    <tr>\n",
              "      <th>9</th>\n",
              "      <td>0.0001627</td>\n",
              "      <td>0.0711</td>\n",
              "      <td>1476</td>\n",
              "    </tr>\n",
              "    <tr>\n",
              "      <th>16</th>\n",
              "      <td>0.0001064</td>\n",
              "      <td>0.0716</td>\n",
              "      <td>1243</td>\n",
              "    </tr>\n",
              "    <tr>\n",
              "      <th>15</th>\n",
              "      <td>0.0001206</td>\n",
              "      <td>0.0731</td>\n",
              "      <td>1130</td>\n",
              "    </tr>\n",
              "    <tr>\n",
              "      <th>11</th>\n",
              "      <td>9.33e-05</td>\n",
              "      <td>0.0732</td>\n",
              "      <td>1423</td>\n",
              "    </tr>\n",
              "    <tr>\n",
              "      <th>4</th>\n",
              "      <td>8.48e-05</td>\n",
              "      <td>0.0747</td>\n",
              "      <td>1324</td>\n",
              "    </tr>\n",
              "    <tr>\n",
              "      <th>2</th>\n",
              "      <td>8.48e-05</td>\n",
              "      <td>0.0749</td>\n",
              "      <td>1335</td>\n",
              "    </tr>\n",
              "    <tr>\n",
              "      <th>7</th>\n",
              "      <td>0.0001326</td>\n",
              "      <td>0.0762</td>\n",
              "      <td>1441</td>\n",
              "    </tr>\n",
              "    <tr>\n",
              "      <th>12</th>\n",
              "      <td>0.0001212</td>\n",
              "      <td>0.0766</td>\n",
              "      <td>1251</td>\n",
              "    </tr>\n",
              "    <tr>\n",
              "      <th>17</th>\n",
              "      <td>9.78e-05</td>\n",
              "      <td>0.0806</td>\n",
              "      <td>1301</td>\n",
              "    </tr>\n",
              "    <tr>\n",
              "      <th>8</th>\n",
              "      <td>9.05e-05</td>\n",
              "      <td>0.0839</td>\n",
              "      <td>1395</td>\n",
              "    </tr>\n",
              "    <tr>\n",
              "      <th>19</th>\n",
              "      <td>9.27e-05</td>\n",
              "      <td>0.0889</td>\n",
              "      <td>1188</td>\n",
              "    </tr>\n",
              "    <tr>\n",
              "      <th>3</th>\n",
              "      <td>9.1e-05</td>\n",
              "      <td>0.0918</td>\n",
              "      <td>1237</td>\n",
              "    </tr>\n",
              "    <tr>\n",
              "      <th>6</th>\n",
              "      <td>0.0001223</td>\n",
              "      <td>0.0919</td>\n",
              "      <td>1283</td>\n",
              "    </tr>\n",
              "    <tr>\n",
              "      <th>14</th>\n",
              "      <td>0.0001303</td>\n",
              "      <td>0.096</td>\n",
              "      <td>1290</td>\n",
              "    </tr>\n",
              "    <tr>\n",
              "      <th>5</th>\n",
              "      <td>9.5e-05</td>\n",
              "      <td>0.0965</td>\n",
              "      <td>1363</td>\n",
              "    </tr>\n",
              "    <tr>\n",
              "      <th>1</th>\n",
              "      <td>9.05e-05</td>\n",
              "      <td>0.1438</td>\n",
              "      <td>1344</td>\n",
              "    </tr>\n",
              "    <tr>\n",
              "      <th>0</th>\n",
              "      <td>6.71e-05</td>\n",
              "      <td>1.0</td>\n",
              "      <td>1294</td>\n",
              "    </tr>\n",
              "  </tbody>\n",
              "</table>\n",
              "</div>"
            ],
            "text/plain": [
              "   Running time similarity number of words\n",
              "18     9.05e-05     0.0665            1412\n",
              "10    0.0001331       0.07            1436\n",
              "13    0.0001138     0.0704            1246\n",
              "9     0.0001627     0.0711            1476\n",
              "16    0.0001064     0.0716            1243\n",
              "15    0.0001206     0.0731            1130\n",
              "11     9.33e-05     0.0732            1423\n",
              "4      8.48e-05     0.0747            1324\n",
              "2      8.48e-05     0.0749            1335\n",
              "7     0.0001326     0.0762            1441\n",
              "12    0.0001212     0.0766            1251\n",
              "17     9.78e-05     0.0806            1301\n",
              "8      9.05e-05     0.0839            1395\n",
              "19     9.27e-05     0.0889            1188\n",
              "3       9.1e-05     0.0918            1237\n",
              "6     0.0001223     0.0919            1283\n",
              "14    0.0001303      0.096            1290\n",
              "5       9.5e-05     0.0965            1363\n",
              "1      9.05e-05     0.1438            1344\n",
              "0      6.71e-05        1.0            1294"
            ]
          },
          "metadata": {
            "tags": []
          },
          "execution_count": 68
        }
      ]
    },
    {
      "metadata": {
        "id": "KeVFc8Gx1pZa",
        "colab_type": "code",
        "outputId": "39fa3085-aab4-49aa-8d0d-e3cade4e9837",
        "colab": {}
      },
      "cell_type": "code",
      "source": [
        "plt.bar(sima_x,timexs)\n",
        "plt.xticks(rotation=40)"
      ],
      "execution_count": 0,
      "outputs": [
        {
          "output_type": "execute_result",
          "data": {
            "text/plain": [
              "([0, 1, 2, 3, 4, 5, 6, 7, 8, 9, 10, 11, 12, 13, 14, 15, 16, 17, 18, 19],\n",
              " <a list of 20 Text xticklabel objects>)"
            ]
          },
          "metadata": {
            "tags": []
          },
          "execution_count": 70
        },
        {
          "output_type": "display_data",
          "data": {
            "image/png": "[encoded data removed]",
            "text/plain": [
              "<Figure size 432x288 with 1 Axes>"
            ]
          },
          "metadata": {
            "tags": [],
            "needs_background": "light"
          }
        }
      ]
    },
    {
      "metadata": {
        "id": "IM0_8-Ac1pZj",
        "colab_type": "text"
      },
      "cell_type": "markdown",
      "source": [
        "From above chart, it show that relationship of Jaccard's similarity and running time. When the words of documents is approximately 650, their running time do not depend on the similarity. However, its running time was increase when its number of documents was growth. It will be estimated."
      ]
    },
    {
      "metadata": {
        "id": "xfcTk91bSmlv",
        "colab_type": "text"
      },
      "cell_type": "markdown",
      "source": [
        "Jaccard's similiarity (chart 1.1)"
      ]
    },
    {
      "metadata": {
        "id": "zwlwEnme1pZk",
        "colab_type": "code",
        "outputId": "3a8955f0-d5a4-47ad-dbb3-e5649d2bdf96",
        "colab": {}
      },
      "cell_type": "code",
      "source": [
        "times = []\n",
        "number=[]\n",
        "for n in range(1000, 300 * 100 + 1, 1000):\n",
        "    \n",
        "    A = token_frequency(brown.words()[:n])\n",
        "    B = token_frequency(brown.words()[n:2*n])\n",
        "    \n",
        "#     start = timer()\n",
        "#     sim_A_B = jac_sim(A,B)\n",
        "#     end = timer()\n",
        "    \n",
        "    run_time=timeit(jac_sim,A,B)\n",
        "#     print(n)\n",
        "    number.append(n)\n",
        "    times.append(run_time)\n",
        "\n",
        "lx,ly=draw_chart(number,times,'Jaccard')\n",
        "cal_slope(lx,ly)"
      ],
      "execution_count": 0,
      "outputs": [
        {
          "output_type": "display_data",
          "data": {
            "image/png": "[encoded data removed]",
            "text/plain": [
              "<Figure size 432x288 with 2 Axes>"
            ]
          },
          "metadata": {
            "tags": [],
            "needs_background": "light"
          }
        },
        {
          "output_type": "stream",
          "text": [
            "Slope is 0.8910904900957792 and intercept is -6.849231802531387\n"
          ],
          "name": "stdout"
        }
      ]
    },
    {
      "metadata": {
        "id": "p7ainLyP1pZ2",
        "colab_type": "text"
      },
      "cell_type": "markdown",
      "source": [
        "### Estimate the constant for my implementation and computer.\n",
        "Now I investigate the worst-case running time of this algorithm for different lengths of documents.\n",
        "From the above charts, the first chart is when the number of doucments words was a rise from 1000 to 30000, its running time had a significant growth. However, it difficult to observe its worst running time trend. So, if it is about linear $O(n^1)$, I need some Maths.\n",
        "If $y=c_a.x^n$ then it follows that: $\\log(y) = \\log(c_a) + n \\log(x)$\n",
        "therefore, if I plot a graph of $\\log(y)$ against $\\log(x)$ the gradient will be n and the y intercept will be $\\log(c_a)$. According to the second chart of worst- case running time of Jaccard's similarity measure. Its gradient and intercept were approximately 0.891 and -6.849 respectively. It means Jaccard's similarity  measure that this is fairly straight and the gradient is approximately 0.89 to 1. The y intercept is about -7 so $𝑐𝑎≈10^{−6.8}\\approx 0.0000001$. Based on this analysis, I estimate the worst running time $y\\approx c_a.x^1 \\longrightarrow$ $O(n)$ This illustrates that empirically we have$ 𝑂(𝑛^{0.89})$ which is slightly better than $𝑂(𝑛)$. Because in the algorithm, there are some instructions which are only carried out O(n) times (outside the inner loop). This will make the power appear lower than it really is unless n is asymptotically large. Therefore, if the number of words increases, it would close the O(n)"
      ]
    },
    {
      "metadata": {
        "id": "tLwYLUyB1paA",
        "colab_type": "code",
        "colab": {}
      },
      "cell_type": "code",
      "source": [
        "#tag frequency for each words\n",
        "sims = []\n",
        "processed_docs=[]\n",
        "for i in range(len(docs)):\n",
        "    processed_docs.append(token_frequency(word_tokenize(docs[i])))"
      ],
      "execution_count": 0,
      "outputs": []
    },
    {
      "metadata": {
        "id": "c7YLYILJ1paS",
        "colab_type": "text"
      },
      "cell_type": "markdown",
      "source": [
        "2.What is the theoretical worst case running time of the cosine similarity measure applied to documents represented as dense vectors? Show that this is the case empirically. Estimate the constant for your implementation and computer. You may wish to compare using the implementation of the dot product in numpy with your own implementation."
      ]
    },
    {
      "metadata": {
        "id": "CbkNfqiG1paX",
        "colab_type": "text"
      },
      "cell_type": "markdown",
      "source": [
        "### The consine similarity formula  \n",
        "$cos\\theta = \\cfrac{A\\cdot B}{\\sqrt{A\\cdot A}\\sqrt{B\\cdot B}}$"
      ]
    },
    {
      "metadata": {
        "id": "JmyOuqFk1paa",
        "colab_type": "code",
        "colab": {}
      },
      "cell_type": "code",
      "source": [
        "# The function is to make the dense vectors from dictionary\n",
        "def make_matrix(list_of_dicts):\n",
        "    #first of all make a list of all of the features that occur in any document - these will be the dimensions of the matrix\n",
        "    allfeatures={}    \n",
        "    for docdict in list_of_dicts:\n",
        "#         print('docdict',docdict)\n",
        "        for feat in docdict.keys():\n",
        "#             print('feat',feat)\n",
        "            allfeatures[feat]=1\n",
        "#             print('allfeatures',allfeatures)\n",
        "    dimensions=list(allfeatures.keys())\n",
        "#     print(dimensions)\n",
        "    #don't strictly need to sort it - but it is good practise to make sure it is reproducible\n",
        "    so=sorted(dimensions)\n",
        "    matrix=[]\n",
        "    #each row in the matrix will be one of the dimensions\n",
        "    for dimension in dimensions:\n",
        "        row=[]\n",
        "        #look up the appropriate value for each document\n",
        "        for docdict in list_of_dicts:\n",
        "            row.append(docdict.get(dimension,0)) #this will append the document's value if present, 0 otherwise\n",
        "        matrix.append(row)\n",
        "        \n",
        "        \n",
        "    return matrix\n",
        "\n",
        "## it might be useful to be able to transpose a matrix so we can compare documents\n",
        "def transpose(matrix):\n",
        "    transposed=[]\n",
        "    for i in range(0,len(matrix[0])):\n",
        "        transposed.append([row[i] for row in matrix])\n",
        "        \n",
        "    return transposed\n",
        "#call make_matrix on whatever variable holds your list of dictionaries representation of your documents"
      ],
      "execution_count": 0,
      "outputs": []
    },
    {
      "metadata": {
        "id": "Y_R-Urxi1par",
        "colab_type": "code",
        "colab": {}
      },
      "cell_type": "code",
      "source": [
        "#cosine similarity meansure\n",
        "def L2_norm(A):\n",
        "    sq_sum = 0\n",
        "    for i in range(len(A)):\n",
        "        sq_sum += A[i]**2\n",
        "    return sq_sum**0.5\n",
        "\n",
        "\n",
        "def cosine_sim(A, B):\n",
        "    \n",
        "    dot_prod = 0\n",
        "    for i in range(len(A)):\n",
        "        dot_prod += A[i] * B[i]\n",
        "\n",
        "    L2_A = L2_norm(A)\n",
        "    L2_B = L2_norm(B)\n",
        "    \n",
        "    return dot_prod / (L2_A * L2_B)"
      ],
      "execution_count": 0,
      "outputs": []
    },
    {
      "metadata": {
        "id": "z9O01baf1pbG",
        "colab_type": "text"
      },
      "cell_type": "markdown",
      "source": [
        "### The theoretical worst-case running time analysis:\n",
        "Cosine similarity measure is that real-valued ‘vector’ representations of objects lead naturally to geometric notions of similarity. Before, calculation of cosine similarity, I need to compute documents represented as dense vectors. According to lab 6, I use the function make_matrix to make the matrix from a dictionary of frequency. When cosines similarity measure calculate dense vectors. it has three steps. Firstly, I apply the for loop to iterate through arrays and collection to dot product each corresponding vectors of a document. Therefore, its worst running time is O(n). Secondly, it computes the magnitude of two documents vectors and it has a for loop. Finally, results of dot product divided by results of magnitude. From these analyses, I assumed that running time of the measure is about O(n)by the big O notation. It will estimate the constant for my implementation and computer. Moreover, it would be compared using the implementation of the dot product in numpy with my own implementation."
      ]
    },
    {
      "metadata": {
        "id": "qAdCL9IF1pbJ",
        "colab_type": "code",
        "colab": {}
      },
      "cell_type": "code",
      "source": [
        "times_1 = []\n",
        "\n",
        "for n in range(1000, 300 * 100 + 1, 1000):\n",
        "    \n",
        "    A = token_frequency(brown.words()[:n])\n",
        "    B = token_frequency(brown.words()[n:2*n])\n",
        "    \n",
        "    MT = np.array(transpose(make_matrix([A,B])))\n",
        "    \n",
        "    running_time=timeit(cosine_sim,MT[0], MT[1])\n",
        "    times_1.append(running_time)\n"
      ],
      "execution_count": 0,
      "outputs": []
    },
    {
      "metadata": {
        "id": "v5VmMUpC1pbV",
        "colab_type": "code",
        "colab": {}
      },
      "cell_type": "code",
      "source": [
        "#dot dense vectors\n",
        "def cosine_sim_dot(A, B):\n",
        "    \n",
        "    dot_prod = 0\n",
        "    \n",
        "    dot_prod =np.dot(A,B)\n",
        "\n",
        "    L2_A = L2_norm(A)\n",
        "    L2_B = L2_norm(B)\n",
        "    \n",
        "    return dot_prod / (L2_A * L2_B)"
      ],
      "execution_count": 0,
      "outputs": []
    },
    {
      "metadata": {
        "id": "DS52w90T1pbk",
        "colab_type": "code",
        "outputId": "c8b43593-119e-4904-bb27-3e496181f34f",
        "colab": {}
      },
      "cell_type": "code",
      "source": [
        "times_2 = []\n",
        "\n",
        "for n in range(1000, 300 * 100 + 1, 1000):\n",
        "    \n",
        "    A = token_frequency(brown.words()[:n])\n",
        "    B = token_frequency(brown.words()[n:2*n])\n",
        "\n",
        "    MT = np.array(transpose(make_matrix([A,B])))\n",
        "    \n",
        "    running_time=timeit(cosine_sim_dot,MT[0], MT[1])\n",
        "    times_2.append(running_time)\n",
        "\n",
        "    \n",
        "plt.plot(times_2)\n",
        "plt.ylabel('Cosine run time')\n",
        "plt.show()"
      ],
      "execution_count": 0,
      "outputs": [
        {
          "output_type": "display_data",
          "data": {
            "image/png": "[encoded data removed]",
            "text/plain": [
              "<Figure size 432x288 with 1 Axes>"
            ]
          },
          "metadata": {
            "tags": [],
            "needs_background": "light"
          }
        }
      ]
    },
    {
      "metadata": {
        "id": "7HBpsLf2QSlv",
        "colab_type": "text"
      },
      "cell_type": "markdown",
      "source": [
        "Cosine similarity with vector iteration(chart 2.1 and chart 2.2)"
      ]
    },
    {
      "metadata": {
        "id": "Ew3WKBnN1pbq",
        "colab_type": "code",
        "outputId": "4b4a24ab-c20a-421d-ce07-bbeda22636a1",
        "colab": {}
      },
      "cell_type": "code",
      "source": [
        "#consine of documents iteration\n",
        "lx,ly=draw_chart(number,times_1,'cosine similary \\n with vector iteration')\n",
        "cal_slope(lx,ly)"
      ],
      "execution_count": 0,
      "outputs": [
        {
          "output_type": "display_data",
          "data": {
            "image/png": "[encoded data removed]",
            "text/plain": [
              "<Figure size 432x288 with 2 Axes>"
            ]
          },
          "metadata": {
            "tags": [],
            "needs_background": "light"
          }
        },
        {
          "output_type": "stream",
          "text": [
            "Slope is 0.7554522128887582 and intercept is -5.246121743384572\n"
          ],
          "name": "stdout"
        }
      ]
    },
    {
      "metadata": {
        "id": "TaulfslFQbVS",
        "colab_type": "text"
      },
      "cell_type": "markdown",
      "source": [
        "Cosine similarity with numpy dot product(chart 2.3 and chart 2.4)"
      ]
    },
    {
      "metadata": {
        "id": "goLqoHw01pcA",
        "colab_type": "code",
        "outputId": "2153e178-8a1d-42c0-8672-2599d21dcb83",
        "colab": {}
      },
      "cell_type": "code",
      "source": [
        "#consine of numpy dot product\n",
        "lx,ly=draw_chart(number,times_2,'cosine similary \\n with numpy dot product')\n",
        "cal_slope(lx,ly)"
      ],
      "execution_count": 0,
      "outputs": [
        {
          "output_type": "display_data",
          "data": {
            "image/png": "[encoded data removed]",
            "text/plain": [
              "<Figure size 432x288 with 2 Axes>"
            ]
          },
          "metadata": {
            "tags": [],
            "needs_background": "light"
          }
        },
        {
          "output_type": "stream",
          "text": [
            "Slope is 0.7331657588181568 and intercept is -5.317878609469529\n"
          ],
          "name": "stdout"
        }
      ]
    },
    {
      "metadata": {
        "id": "IHhyhwdkQF7q",
        "colab_type": "text"
      },
      "cell_type": "markdown",
      "source": [
        "### Comparing two measures(chart 2.5)"
      ]
    },
    {
      "metadata": {
        "id": "BiF-IqhI1pcZ",
        "colab_type": "code",
        "outputId": "c5cdc77a-8f8e-45b0-8d05-8670af6b3daa",
        "colab": {}
      },
      "cell_type": "code",
      "source": [
        "plt.plot(times_1)\n",
        "plt.plot(times_2)\n",
        "plt.title(\"Comparing two measures\")\n",
        "\n",
        "label = [\"Cosine similarity with vector iteration\",\"Cosine similarity with numpy dot product\"]\n",
        "plt.legend(label, loc = 0, ncol = 2)\n",
        "plt.ylabel('Cosine run time')\n",
        "plt.show()"
      ],
      "execution_count": 0,
      "outputs": [
        {
          "output_type": "display_data",
          "data": {
            "image/png": "[encoded data removed]",
            "text/plain": [
              "<Figure size 432x288 with 1 Axes>"
            ]
          },
          "metadata": {
            "tags": [],
            "needs_background": "light"
          }
        }
      ]
    },
    {
      "metadata": {
        "id": "_D0Erh5p1pco",
        "colab_type": "text"
      },
      "cell_type": "markdown",
      "source": [
        "### Estimate the constant for my implementation and computer.\n",
        "#### (NB: Cosine similarity measure with vector iteration means we apply for loop documents iteration to compute documents represented as dense vectors. Cosine similarity measure with numpy dot product means that it apply numpy dot product)\n",
        "\n",
        "The worst-case running time of this cosine similarly measure was investigated for different lengths of documents words between 1000 and 30000. Firstly, from the above charts of cosine similarity measure with vector iteration(chart 2.1 and chart 2.2), the first chart is when the number of documents words was an increase from 1000 to 30000, its running time was a significant growth. Moreover, the first chart of cosine similarity measure with numpy dot product had the same variation tendency. These results showed that cosine similarity with vector iteration and cosine similarity measure with numpy dot product had the same variation tendency. It observed that its worst running time trend similar linear $𝑂(𝑛^1)$.   \n",
        "\n",
        "Secondly, I also used some above maths. If $𝑦=𝑐𝑎.𝑥^𝑛$ then it follows that: log(𝑦)=log(𝑐𝑎)+𝑛log(𝑥). Therefore, according to the second charts of a worst-case running time of  cosine similarity with vector iteration and consine similarity measure with numpy dot product (chart 2.2 and  chart 2.4).  Gradient t of cosine similarity with vector iteration and cosine similarity measure with numpy dot product were approximately 0.755 and 0.733 respectively. Their intercept were approximately -5.2 and -5.3 respectively. It means the gradient and intercept of two cosine similarity measure were significantly similar. Moreover, this is fairly straight and the gradient is approximately 0.7 to 1. The y intercept is about -5 so $𝑐𝑎≈10^{−5}=0.00001$. \n",
        "\n",
        "Depend on the above analysis, I can estimate constant that the worst running times of first cosine similarity measure and second cosine similarity measure are $y=10^{-5}*x^{0.755}$ and $y=10^{-5}*x^{0.733}$. This illustrates that empirically we have$𝑂(𝑛^{0.755})$for original measure and $𝑂(𝑛^{0.733})$ for numpy which are slightly greater than 𝑂(𝑛). The same reason is that measures there are some instructions which are only carried out O(n) times (outside the inner loop). This will make the power appear lower than it really is unless n is asymptotically large. Finally, for the chart of comparing two functions(chart 2.5), two curves have a similar trend，However, the curve of cosine similarity measure with numpy dot product lower than the curve of cosine similarity measure with vector iteration. This means if we use the numpy dot, the running time would be reduced. According to the previous analysis, if, we apply numpy dot product, its time complexity is $𝑂(𝑛^{0.733}) $. However, the cosine similarity with vector iteration is $𝑂(𝑛^{0.755}). Therefore, if we apply cosine similarity with numpy dot product , it would more effective."
      ]
    },
    {
      "metadata": {
        "id": "nvL3_0061pct",
        "colab_type": "text"
      },
      "cell_type": "markdown",
      "source": [
        "3.Write a function which computes cosine similarity directly from sparse (dictionary) representations without converting them into dense (vector) representations? Make sure you test your function empirically for correctness and for efficiency and compare it to your previous implementatIon of the cosine similarity and your implementation of Jaccard’s measure."
      ]
    },
    {
      "metadata": {
        "id": "0nZwWS-Y1pcx",
        "colab_type": "code",
        "colab": {}
      },
      "cell_type": "code",
      "source": [
        "#cosine similarity directly from sparse (dictionary) representation\n",
        "A = token_frequency(brown.words()[0:100])\n",
        "B= token_frequency(brown.words()[100:200])"
      ],
      "execution_count": 0,
      "outputs": []
    },
    {
      "metadata": {
        "id": "RJrlc1O91pc5",
        "colab_type": "text"
      },
      "cell_type": "markdown",
      "source": [
        "Sparse (dictionary) representations"
      ]
    },
    {
      "metadata": {
        "id": "jxjca6kK1pc5",
        "colab_type": "code",
        "outputId": "40fa34e8-0c1b-4433-f499-747b330a7639",
        "colab": {}
      },
      "cell_type": "code",
      "source": [
        "print(A,'\\n',B)"
      ],
      "execution_count": 0,
      "outputs": [
        {
          "output_type": "stream",
          "text": [
            "{'The': 1, 'Fulton': 1, 'County': 1, 'Grand': 1, 'Jury': 1, 'said': 1, 'Friday': 1, 'an': 1, 'investigation': 1, 'of': 1} \n",
            " {\"Atlanta's\": 1, 'recent': 1, 'primary': 1, 'election': 1, 'produced': 1, '``': 1, 'no': 1, 'evidence': 1, \"''\": 1, 'that': 1}\n"
          ],
          "name": "stdout"
        }
      ]
    },
    {
      "metadata": {
        "id": "mjfRZWiO1pdA",
        "colab_type": "code",
        "colab": {}
      },
      "cell_type": "code",
      "source": [
        "from math import sqrt\n",
        "def dot(d1,d2):\n",
        "    if len(d1) < len(d2):\n",
        "        a = d1\n",
        "        b = d2\n",
        "    else:\n",
        "        a = d2\n",
        "        b = d1\n",
        "    dotproduct = 0\n",
        "    for word,count in a.items():\n",
        "        dotproduct += count * b.get(word,0)\n",
        "    return dotproduct\n",
        "\n",
        "def cos_sim_nlp(d1,d2):\n",
        "    numerator = dot(d1,d2)\n",
        "    denominator = sqrt(dot(d1,d1)*dot(d2,d2))\n",
        "    return numerator/denominator"
      ],
      "execution_count": 0,
      "outputs": []
    },
    {
      "metadata": {
        "id": "W9CD9sxt1pdL",
        "colab_type": "code",
        "outputId": "a9d88c0c-21d0-457c-df9b-c6fd0af6ff13",
        "colab": {}
      },
      "cell_type": "code",
      "source": [
        "def cos_dense_nl():\n",
        "#     times_cose1 = []\n",
        "    times_cose2 = []\n",
        "    numberxs=[]\n",
        "    for n in range(1000, 300 * 100 + 1, 1000):\n",
        "    \n",
        "        A = token_frequency(brown.words()[:n])\n",
        "        B = token_frequency(brown.words()[n:2*n])\n",
        "    \n",
        "        numberxs.append(n)\n",
        "        \n",
        "        running_time=timeit(cos_sim_nlp,A, B)\n",
        "        times_cose2.append(running_time)\n",
        "   \n",
        "\n",
        "    plt.plot(times_cose2)\n",
        "    plt.ylabel('Cosine run time')\n",
        "    plt.show()\n",
        "        \n",
        "    return times_cose2,numberxs\n",
        "cos_den=cos_dense_nl()"
      ],
      "execution_count": 0,
      "outputs": [
        {
          "output_type": "display_data",
          "data": {
            "image/png": "[encoded data removed]",
            "text/plain": [
              "<Figure size 432x288 with 1 Axes>"
            ]
          },
          "metadata": {
            "tags": [],
            "needs_background": "light"
          }
        }
      ]
    },
    {
      "metadata": {
        "id": "jfZznzJOTR1_",
        "colab_type": "text"
      },
      "cell_type": "markdown",
      "source": [
        "Cosine similarity directly from sparse (dictionary) representations(chart 3.1 and 3.2)"
      ]
    },
    {
      "metadata": {
        "scrolled": true,
        "id": "TgCfWPDB1pdT",
        "colab_type": "code",
        "outputId": "7c5068fb-91b0-4f5a-ed2e-848d08fd1ba5",
        "colab": {}
      },
      "cell_type": "code",
      "source": [
        "lcx,lcy=draw_chart(cos_den[1],cos_den[0],'cosine similary \\n with sparse dictionary')\n",
        "cal_slope(lcx,lcy)"
      ],
      "execution_count": 0,
      "outputs": [
        {
          "output_type": "display_data",
          "data": {
            "image/png": "[encoded data removed]",
            "text/plain": [
              "<Figure size 432x288 with 2 Axes>"
            ]
          },
          "metadata": {
            "tags": [],
            "needs_background": "light"
          }
        },
        {
          "output_type": "stream",
          "text": [
            "Slope is 0.765139708177342 and intercept is -5.8486494815613215\n"
          ],
          "name": "stdout"
        }
      ]
    },
    {
      "metadata": {
        "id": "YD88XZZJ1pde",
        "colab_type": "text"
      },
      "cell_type": "markdown",
      "source": [
        "### Estimate the constant for my implementation and computer.\n",
        "According to question 3, before to compute running time, I need to write a function which computes cosine similarity directly from sparse (dictionary) representations without converting them into dense (vector) representations. It means that it compute cosine similarity by keys and frequency of dictionary. From the above two charts of the worst-case running time of cosine similary measure as dictionary reoresentation, the first chart illustrates that the running time was an increase with the increase in the number of words. Its curve also similar linear growth. So that, I use the same math method to analyse the linear relationship of this algorithm. According to the second chart of worst case running time of cosine similary measure as dictionary. Its gradient t was approximately 0.765. Its intercept was approximately -5.84. Moreover, this is fairly straight and the gradient is approximately 0.765 to 1. The y intercept is about $-6$ so $𝑐𝑎≈10^{−5.8}=0.000001$. Likewise, I can estimate the worst running time $𝑦=𝑐𝑎.𝑥^{0.765}$ This illustrates that empirically we have$𝑂(𝑛^{0.765})$ which is slightly greater than 𝑂(𝑛). The same reason is that some instructions of the algorithm are executed only O (n) times (outside the inner loop). This will make the power appear to be lower than the actual value, unless n is asymptotically large."
      ]
    },
    {
      "metadata": {
        "id": "KplbZAIVUAcK",
        "colab_type": "text"
      },
      "cell_type": "markdown",
      "source": [
        "Compare four measures(chart 3.3)"
      ]
    },
    {
      "metadata": {
        "id": "0H4yRvu41pdg",
        "colab_type": "code",
        "outputId": "f6b0cea6-749e-4ffb-a7ac-4ac02112de1f",
        "colab": {
          "base_uri": "https://localhost:8080/",
          "height": 294
        }
      },
      "cell_type": "code",
      "source": [
        "def cos_dense_nl():\n",
        "    times_cose1 = []\n",
        "    times_cose2 = []\n",
        "    times_jac=[]\n",
        "    times_cos_dot=[]\n",
        "    for n in range(1000, 300 * 100 + 1, 1000):\n",
        "    \n",
        "        A = token_frequency(brown.words()[:n])\n",
        "        B = token_frequency(brown.words()[n:2*n])\n",
        "    \n",
        "    \n",
        "        MT = np.array(transpose(make_matrix([A,B])))\n",
        "        \n",
        "       \n",
        "        #cosine's similarly of vectors\n",
        "        \n",
        "        running_time1=timeit(cosine_sim,MT[0], MT[1])\n",
        "        times_cose1.append(running_time1)\n",
        "        \n",
        "\n",
        "        #cosine's similarly of dictionary\n",
        "        \n",
        "        running_time2=timeit(cos_sim_nlp,A, B)\n",
        "        times_cose2.append(running_time2)\n",
        "        \n",
        "         # jaccard's similarly\n",
        "\n",
        "        \n",
        "        running_time3=timeit(cos_sim_nlp,A, B)\n",
        "        times_jac.append(running_time3)\n",
        "        \n",
        "        #cosine's similarly of numpy dot\n",
        "        running_time4=timeit(cosine_sim_dot,MT[0], MT[1])\n",
        "        times_cos_dot.append(running_time4)\n",
        "        \n",
        "    plt.plot(times_jac)   \n",
        "    plt.plot(times_cose1)\n",
        "    plt.plot(times_cose2)\n",
        "    plt.plot(times_cos_dot)\n",
        "    \n",
        "    plt.xlabel(\"Length of List\")\n",
        "    plt.title(\"Compared four measure\")\n",
        "    label = [\"jaccard\", \"cosine of vector\",\"cosine of dictionary\",\"cosine numpy dot\"]\n",
        "    plt.legend(label, loc = 0, ncol = 4)\n",
        "    plt.ylabel('run time')\n",
        "    plt.show()\n",
        "        \n",
        "    return times_cose2\n",
        "cos_den=cos_dense_nl()"
      ],
      "execution_count": 68,
      "outputs": [
        {
          "output_type": "display_data",
          "data": {
            "image/png": "[encoded data removed]",
            "text/plain": [
              "<matplotlib.figure.Figure at 0x7f4ca49efda0>"
            ]
          },
          "metadata": {
            "tags": []
          }
        }
      ]
    },
    {
      "metadata": {
        "id": "Rswpy-681pdr",
        "colab_type": "text"
      },
      "cell_type": "markdown",
      "source": [
        "From the above charts( chart 3.3). it indicates that four algorithms have a similar increase trend. However, the curve of the cosine of vector is significantly higher than the others. This means the running time is greater than others. Moreover, the curve of the cosine of numpy dot product is lower than the curve of vector and higher than the curve of Jaccard and cosine of the dictionary. The curve of Jaccard  and cosine of the dictionary not only had the lowest worst running time but also had a most similar trend in the chart of compare four algrothm. For analysis of chart, firstly, the cosine similarity measure applied to documents represented as dense vectors. It needs to compute where there is a dimension for each of the V words in the English vocabulary. This means it needs to compute all words frequency to make the vector, if some words do not occur in other documents, the vectors will be interpolated with zero.  Therefore, it leads to the length of the list was increased with the number of document words. Similarly, if  we apply the numpy dot product, it also computes the expended vectors. However, it is more efficient than the first measure by previous analysis. If cosine similarity measure is directly from sparse (dictionary) representations without converting them into dense (vector) representations, its bag of a list is lower than the first and second method. It not only does not expend the frequency of each word as vectors but also only compute the frequency of each word. This reduces the size of data and running time. For the Jaccard' similarity. its running time was the lowest. Because it does not iterate through arrays and collections and their running time of intersection and union only depend on the number of words in documents. This is the cause of this distribution.  Finally,  four measures depend on length of documents, if the length is an increase, their running time also rise.Different algorithms running time is significant different. Even if the algorithm is the same, different method lead to different running time."
      ]
    },
    {
      "metadata": {
        "id": "lEuDv2uj1pdt",
        "colab_type": "text"
      },
      "cell_type": "markdown",
      "source": [
        "4.Write a function which computes all-pairs similarities for a collection of documents. The function should take a list of dictionaries (the document collection) and a parameter specifying the similarity measure to be used. What is the theoretical worst-case running time for computing all-pairs similarities? Does it matter what the similarity measure is? Can you give an estimate of how long it would take to compute all-pairs similarities for 200K documents for both measures? (Note: that whilst you should test your function for all-pairs similarities (with d > 10), you do not need to prove the theoretical worst case empirically or test with 200K documents!)"
      ]
    },
    {
      "metadata": {
        "id": "SVMGApRa1pdu",
        "colab_type": "code",
        "outputId": "d301f545-8fb3-49de-be76-2a2ec002c125",
        "colab": {}
      },
      "cell_type": "code",
      "source": [
        "len(brown.words())"
      ],
      "execution_count": 0,
      "outputs": [
        {
          "output_type": "execute_result",
          "data": {
            "text/plain": [
              "1161192"
            ]
          },
          "metadata": {
            "tags": []
          },
          "execution_count": 67
        }
      ]
    },
    {
      "metadata": {
        "id": "zpvl0ebv1pd9",
        "colab_type": "code",
        "colab": {}
      },
      "cell_type": "code",
      "source": [
        "def all_pair(func,flag):\n",
        "    sims= []\n",
        "    time_collection=[]\n",
        "    number_collection=[]\n",
        "    k_num=0\n",
        "    j_num=0\n",
        "\n",
        "    most_similar = (0,0,0)\n",
        "    \n",
        "    if flag==1:\n",
        "        for i in range(len(my_doc)-1):\n",
        "            for j in range(i+1, len(my_doc)):\n",
        "                start = timer()\n",
        "                sim_i_j = func(my_doc[i], my_doc[j])\n",
        "                end = timer()\n",
        "                k_num=k_num+(end-start)\n",
        "                time_collection.append(k_num)\n",
        "                j_num+=1\n",
        "                number_collection.append(j_num)\n",
        "    else: \n",
        "        for numk in range(48):\n",
        "            my_docs=my_doc[0:numk+1]\n",
        "            start = timer()\n",
        "            k_num=0\n",
        "            for i in range(len(my_docs)-1):\n",
        "                for j in range(i+1, len(my_docs)):\n",
        "                    sim_i_j = func(my_doc[i], my_doc[j])\n",
        "            end = timer()\n",
        "            k_num=(end-start)\n",
        "            time_collection.append(k_num)\n",
        "            number_collection.append(len(my_docs))       \n",
        "            \n",
        "#     plt.plot(number_collection,time_collection)\n",
        "#     plt.ylabel('run time')\n",
        "#     plt.show()\n",
        "    return number_collection,time_collection"
      ],
      "execution_count": 0,
      "outputs": []
    },
    {
      "metadata": {
        "id": "62HSeVMv1peA",
        "colab_type": "text"
      },
      "cell_type": "markdown",
      "source": [
        "### Charts of Jaccard's all-pairs similarity (chart 4.1 and chart 4.2)"
      ]
    },
    {
      "metadata": {
        "id": "bYskBQLE1peC",
        "colab_type": "code",
        "outputId": "9df17747-b5cb-4e9d-f709-a4e4cb973abf",
        "colab": {}
      },
      "cell_type": "code",
      "source": [
        "#only compuating Jaccard's similary \n",
        "xj,yj=all_pair(jac_sim,1)\n",
        "lx,ly=draw_chart(xj,yj,'Jaccard all-pairs')\n",
        "cal_slope(lx,ly)"
      ],
      "execution_count": 0,
      "outputs": [
        {
          "output_type": "display_data",
          "data": {
            "image/png": "[encoded data removed]",
            "text/plain": [
              "<Figure size 432x288 with 2 Axes>"
            ]
          },
          "metadata": {
            "tags": [],
            "needs_background": "light"
          }
        },
        {
          "output_type": "stream",
          "text": [
            "Slope is 0.9911309621556481 and intercept is -3.985751662733678\n"
          ],
          "name": "stdout"
        }
      ]
    },
    {
      "metadata": {
        "id": "cRDHIC3pV-p7",
        "colab_type": "text"
      },
      "cell_type": "markdown",
      "source": [
        "Cosider documents iteration(chart 4.3 and chart 4.4)"
      ]
    },
    {
      "metadata": {
        "scrolled": false,
        "id": "6st9-5jU1peK",
        "colab_type": "code",
        "outputId": "b29a2314-48bc-458d-c6cc-ec1dc042943c",
        "colab": {}
      },
      "cell_type": "code",
      "source": [
        "xj,yj=all_pair(jac_sim,0)\n",
        "lx,ly=draw_chart(xj,yj,'Jaccard all-pairs \\n of documents iteration')\n",
        "cal_slope(lx,ly)"
      ],
      "execution_count": 0,
      "outputs": [
        {
          "output_type": "display_data",
          "data": {
            "image/png": "[encoded data removed]",
            "text/plain": [
              "<Figure size 432x288 with 2 Axes>"
            ]
          },
          "metadata": {
            "tags": [],
            "needs_background": "light"
          }
        },
        {
          "output_type": "stream",
          "text": [
            "Slope is 2.2563101396445706 and intercept is -4.650829511828043\n"
          ],
          "name": "stdout"
        }
      ]
    },
    {
      "metadata": {
        "id": "9US-R_LI1peP",
        "colab_type": "text"
      },
      "cell_type": "markdown",
      "source": [
        "From above four chars of all- pairs Jaccard's similarity measure, the first and second charts did not consider the document iteration(chart 4.1 and chart 4.2). They show that if the funcion only compuate runing time of a collection of 49 documents each containing at least 600 English words.The worst running time of Jaccard' similarity measure also was similar O(n). According to the second chart, its slope and intercept were 0.991 and -3.98 respectively.  Based on previous maths. If $y=c_a.x^n$ then it follows that: $\\log(y) = \\log(c_a) + n \\log(x)$ This is fairly straight and the gradient is approximately 0.991 to 1. The y intercept is about $−3$ 𝑠𝑜 $𝑐𝑎≈10^{−3}=0.001$. Likewise, I also estimate the worst running time $𝑦=𝑐𝑎.𝑥^{0.991}$ This illustrates that empirically we have $𝑂(𝑛^{0.991})$ which is slightly greater than 𝑂(𝑛). The reason is same previous analysis that the algorithm there are some instructions which are only carried out O(n) times (outside the inner loop).\n",
        "According to the results $y=10^{-3}x^{0.991}$, I can give an estimate of 200k documents that it is $y=10^{-3}(200000)^{0.991} \\approx 200 $. However, according to the third chart and fourth chart, if we consider two for loop for documents iteration(chart 4.3 and chart 4.4), its slope and intercept were 3.18 and -4.96 respectively. This illustrates that empirically we have $𝑂(𝑛^{2.25})$ which is slightly better than $𝑂(𝑛^{3})$ . Because in the algorithm, there are some instructions which are only carried out  instructions out the inner loop. This will make the power appear lower than it really.If length of document is increase. it would close the $O(n^3)$. Its Therefore, number of documents was increase with growth of running time. Its running time is that y is $10^{-4}*x^{2.25} \\approx 0.0001*(200000)^{2.25} $.Its worst running time is that $10^{-4}*x^{3} $"
      ]
    },
    {
      "metadata": {
        "id": "O82LGJzb1peS",
        "colab_type": "text"
      },
      "cell_type": "markdown",
      "source": [
        "### Graphs of  Consine all-pair similarity (chart 4.5 and chart 4.6)"
      ]
    },
    {
      "metadata": {
        "id": "c8z-cvNv1peT",
        "colab_type": "code",
        "outputId": "1eef2642-345d-409a-8bc9-8c69918e4f7b",
        "colab": {}
      },
      "cell_type": "code",
      "source": [
        "xc,yc=all_pair(cos_sim_nlp,1)\n",
        "lx,ly=draw_chart(xc,yc,'cosine all-pairs')\n",
        "cal_slope(lx,ly)"
      ],
      "execution_count": 0,
      "outputs": [
        {
          "output_type": "display_data",
          "data": {
            "image/png": "[encoded data removed]",
            "text/plain": [
              "<Figure size 432x288 with 2 Axes>"
            ]
          },
          "metadata": {
            "tags": [],
            "needs_background": "light"
          }
        },
        {
          "output_type": "stream",
          "text": [
            "Slope is 0.9567871513715874 and intercept is -3.3273323302705573\n"
          ],
          "name": "stdout"
        }
      ]
    },
    {
      "metadata": {
        "id": "QVKFksvMW3X1",
        "colab_type": "text"
      },
      "cell_type": "markdown",
      "source": [
        "Cosider documents iteration(chart 4.7 and chart 4.8)"
      ]
    },
    {
      "metadata": {
        "id": "W2PL_s3O1pea",
        "colab_type": "code",
        "outputId": "f976758e-48f4-4449-d4f0-60fa0698896a",
        "colab": {}
      },
      "cell_type": "code",
      "source": [
        "xc,yc=all_pair(cos_sim_nlp,0)\n",
        "lx,ly=draw_chart(xc,yc,'Consine all-pairs \\n of documents iteration')\n",
        "cal_slope(lx,ly)"
      ],
      "execution_count": 0,
      "outputs": [
        {
          "output_type": "display_data",
          "data": {
            "image/png": "[encoded data removed]",
            "text/plain": [
              "<Figure size 432x288 with 2 Axes>"
            ]
          },
          "metadata": {
            "tags": [],
            "needs_background": "light"
          }
        },
        {
          "output_type": "stream",
          "text": [
            "Slope is 2.454480750184999 and intercept is -4.416865388520684\n"
          ],
          "name": "stdout"
        }
      ]
    },
    {
      "metadata": {
        "id": "KsqFCQd71ped",
        "colab_type": "text"
      },
      "cell_type": "markdown",
      "source": [
        "The parameter is a collection of 49 documents each containing at least 600 English words. According to above graphs, the first graph and second graph illustrate that when I only compuate the consine similarity measure without documents itration(chart 4.5 and chart 4.6). Its slope and intercept were 0.956 and -3.327. So that, Based on previous maths,the gradient is approximately 0.956 to 1. The y intercept is about $−3$ 𝑠𝑜 $𝑐𝑎≈10^{−3}\\approx 0.001$.I estimate the worst running time $𝑦=𝑐𝑎.𝑥^𝑛⟶𝑂(𝑛^{0.956})$ This illustrates that empirically we have $𝑂(𝑛^{0.956})$ which is slightly greater than 𝑂(𝑛). The reason is same previous analysis that the algorithm there are some instructions which are only carried out O(n) times (outside the inner loop). From above analysis, if the number of documents are 200k, I have an estimate that $y=10^{-3}*200000 \\approx 200 $. Similarly，when we consider documents itration, its slope and intercept were 2.45 and -4.416. Therefore,it have $O(n^{2.45})$ and $Ca \\approx -4.416$. I estimate that its y is $10^{-4.416}*(200000)^{2.45}$. Moreover, if the documnets have a increase, its worst running time is estimated about $10^{-4.416}*(200000)^{3}$ by previous analysis. "
      ]
    },
    {
      "metadata": {
        "id": "JSaIyZ8IvTK_",
        "colab_type": "text"
      },
      "cell_type": "markdown",
      "source": [
        "Summary,  the theoretical worst-case running time for computing all-pairs similarities is close $O(n^3)$, However, two measure only were about $O(n^{2.25})$ and $O(n^{2.45})$. Their results were better $O(n^3)$. The reason has analysed in the above analysis. We apply which similarity measure is important. According to the above analysis, The Jaccard's similarity running time was significantly lower than the cosine similarity measure. The Jaccard's similarity running time over 1. However, the cosine similarity running time was over 0.4 when they test to compute 50 documents all-pairs. Therefore, the number of documents is important factors to affect running time. From the previous analysis, even if their process speed was similar in length of the bag, they were different in the number of documents. Moreover, their worst running time estimate were $10^{-4.65}*(200000)^{2.25}  $ and $10^{-4.416}*(200000)^{2.45}$ .\n",
        "\n",
        "\n"
      ]
    },
    {
      "metadata": {
        "id": "velxDZdZ1ped",
        "colab_type": "text"
      },
      "cell_type": "markdown",
      "source": [
        "5.Use the map-reduce computing paradigm to implement a parallel version of all-pairs similarities for documents. Make sure you test your function empirically for correctness and for efficiency. Investigate the number of map processes and reduce processes which give optimal results for your implementation and computer."
      ]
    },
    {
      "metadata": {
        "id": "vuszXspF1peg",
        "colab_type": "code",
        "colab": {}
      },
      "cell_type": "code",
      "source": [
        "def all_pair(func):\n",
        "    sims= []\n",
        "    for i in range(len(my_doc)-1):\n",
        "        sims.append([])\n",
        "        for j in range(i+1, len(my_doc)):\n",
        "            sims[i].append([i,j])\n",
        "    return sims"
      ],
      "execution_count": 0,
      "outputs": []
    },
    {
      "metadata": {
        "id": "nfKeN6G-2N9K",
        "colab_type": "code",
        "colab": {}
      },
      "cell_type": "code",
      "source": [
        "# my mapper function\n",
        "def wc_mapper_parallelxx(document):\n",
        "     output=[]\n",
        "    \n",
        "     for num in document:\n",
        "        output.append((str(num[0]),num))\n",
        "        \n",
        "#         print(num)\n",
        "#         print(str(document[0][0]))\n",
        "\n",
        "     return output"
      ],
      "execution_count": 0,
      "outputs": []
    },
    {
      "metadata": {
        "id": "rJvF_SMU2QBo",
        "colab_type": "code",
        "colab": {}
      },
      "cell_type": "code",
      "source": [
        "#my Jaccard'similarity reducer function\n",
        "def wc_reducer_parallelxx_jac(item):\n",
        "    output=[]\n",
        "    (word,counts)=item\n",
        "    for couns in counts:\n",
        "#       print(word,couns)\n",
        "      \n",
        "      A=my_doc[couns[0]]\n",
        "      B=my_doc[couns[1]]\n",
        "      U = A.keys() | B.keys()\n",
        "      I = A.keys() & B.keys()\n",
        "      jac =  len(I) / len(U)\n",
        "      \n",
        "      output.append(((couns[0],couns[1]),jac))\n",
        "    return output"
      ],
      "execution_count": 0,
      "outputs": []
    },
    {
      "metadata": {
        "id": "wWVtegjx2R1h",
        "colab_type": "code",
        "colab": {}
      },
      "cell_type": "code",
      "source": [
        "#my cosine similarity reducer  function\n",
        "def wc_reducer_parallelxx_cos(item):\n",
        "    output=[]\n",
        "    (word,counts)=item\n",
        "    for couns in counts:\n",
        "#       print(word,couns)\n",
        "      \n",
        "      A=my_doc[couns[0]]\n",
        "      B=my_doc[couns[1]]\n",
        "      numerator = dot(A,B)\n",
        "      denominator = sqrt(dot(A,A)*dot(B,B))\n",
        "      cos_sim=numerator/denominator\n",
        "      \n",
        "      output.append(((couns[0],couns[1]),cos_sim))\n",
        "    return output"
      ],
      "execution_count": 0,
      "outputs": []
    },
    {
      "metadata": {
        "id": "zjdtyy3c2TwT",
        "colab_type": "code",
        "colab": {}
      },
      "cell_type": "code",
      "source": [
        "def map_reduce_parallel(docm,mapper,reducer,mapprocesses=3,reduceprocesses=2):\n",
        "  outputs=[]\n",
        "  collector=defaultdict(list)  #this dictionary is where we will store intermediate results\n",
        "                                 #it will map keys to lists of values (default value of a list is [])\n",
        "                                 #in a real system, this would be stored in individual files at the map nodes\n",
        "                                 #and then transferred to the reduce nodes\n",
        "        \n",
        "  docm1=all_pair(docm)\n",
        "  mapprocesses=4\n",
        "  reduceprocesses=4\n",
        "\n",
        "  mappool = Pool(processes=mapprocesses)\n",
        "  #map stage\n",
        "  mapresults=mappool.map(mapper,docm1)\n",
        "  mappool.close()\n",
        "\n",
        "  collector=defaultdict(list)\n",
        "  for mapresult in mapresults:\n",
        "    for (key, value) in mapresult:     #pass each input to the mapper function and receive back each key,value pair yielded\n",
        "      collector[key].append(value)     #append the value to the list for that key in the intermediate store\n",
        "\n",
        "\n",
        "  reducepool = Pool(processes=reduceprocesses)\n",
        "  #reduce stage\n",
        "  reduceresults=reducepool.map(reducer,collector.items())\n",
        "  reducepool.close()\n",
        "  for reduceresult in reduceresults:\n",
        "    outputs+=reduceresult\n",
        "  return outputs"
      ],
      "execution_count": 0,
      "outputs": []
    },
    {
      "metadata": {
        "id": "gQESTkzB3pLW",
        "colab_type": "code",
        "colab": {}
      },
      "cell_type": "code",
      "source": [
        "#test 50 documents average running time\n",
        "def tests(func,ti):\n",
        "  my_docs=my_doc\n",
        "  k_num=0\n",
        "  time_collection=[]\n",
        "  start = timer()\n",
        "\n",
        "  for tii in range(ti):\n",
        "    for i in range(len(my_docs)-1):\n",
        "        for j in range(i+1, len(my_docs)):\n",
        "            sim_i_j = func(my_doc[i], my_doc[j])\n",
        "    end = timer()\n",
        "    k_num=(end-start)\n",
        "    time_collection.append(k_num)\n",
        "  means_time=np.mean(time_collection)\n",
        "  print('(50 documents all-pair) similiarity average running time',means_time)\n",
        "  return means_time"
      ],
      "execution_count": 0,
      "outputs": []
    },
    {
      "metadata": {
        "id": "wri4hpcG5L90",
        "colab_type": "code",
        "colab": {}
      },
      "cell_type": "code",
      "source": [
        "#test 50 documents average running time\n",
        "def tests_pall(func,my_docs,mapper,reducer,ti):\n",
        "  my_docs\n",
        "  k_num=0\n",
        "  time_collection=[]\n",
        "\n",
        "  for tii in range(ti):\n",
        "    start = timer()\n",
        "    map_reduce_parallel(my_doc,mapper,reducer)\n",
        "  \n",
        "    end = timer()\n",
        "    k_num=(end-start)\n",
        "    time_collection.append(k_num)\n",
        "  means_time=np.mean(time_collection)\n",
        "  print('(50 documents all-pair) parallel map-reduce similiarity average running time',means_time)\n",
        "  return means_time"
      ],
      "execution_count": 0,
      "outputs": []
    },
    {
      "metadata": {
        "id": "l35Hs5Jp2Zn8",
        "colab_type": "text"
      },
      "cell_type": "markdown",
      "source": [
        "Jaccard's similarity map-reduce implementation"
      ]
    },
    {
      "metadata": {
        "id": "jTtcexg1YvEx",
        "colab_type": "text"
      },
      "cell_type": "markdown",
      "source": [
        "Compare two Jaccard's similarity measures average running time  "
      ]
    },
    {
      "metadata": {
        "id": "wYu6wxDO6rJl",
        "colab_type": "code",
        "outputId": "d36e1bbd-0948-4840-ad2e-124b1917eab1",
        "colab": {
          "base_uri": "https://localhost:8080/",
          "height": 54
        }
      },
      "cell_type": "code",
      "source": [
        "tests_pall(map_reduce_parallel,my_doc,wc_mapper_parallelxx,wc_reducer_parallelxx_jac,10)"
      ],
      "execution_count": 46,
      "outputs": [
        {
          "output_type": "stream",
          "text": [
            "(50 documents all-pair) parallel Jaccard similiarity average running time 0.2999086957001055\n"
          ],
          "name": "stdout"
        },
        {
          "output_type": "execute_result",
          "data": {
            "text/plain": [
              "0.2999086957001055"
            ]
          },
          "metadata": {
            "tags": []
          },
          "execution_count": 46
        }
      ]
    },
    {
      "metadata": {
        "id": "4WHwNEvB7KCX",
        "colab_type": "code",
        "outputId": "9ea02a62-b136-4fbc-83f9-9f59053f7c5c",
        "colab": {
          "base_uri": "https://localhost:8080/",
          "height": 54
        }
      },
      "cell_type": "code",
      "source": [
        "tests(jac_sim,10)"
      ],
      "execution_count": 28,
      "outputs": [
        {
          "output_type": "stream",
          "text": [
            "(50 documents all-pair) Jaccard similiarity average running time 0.8409540088001449\n"
          ],
          "name": "stdout"
        },
        {
          "output_type": "execute_result",
          "data": {
            "text/plain": [
              "0.8409540088001449"
            ]
          },
          "metadata": {
            "tags": []
          },
          "execution_count": 28
        }
      ]
    },
    {
      "metadata": {
        "id": "752h5hIBYgXn",
        "colab_type": "text"
      },
      "cell_type": "markdown",
      "source": [
        "Make sure my Jaccard's similiarity function empirically for correctness and for efficiency"
      ]
    },
    {
      "metadata": {
        "id": "GnYrXRAHqNLm",
        "colab_type": "text"
      },
      "cell_type": "markdown",
      "source": [
        "Map-reduce"
      ]
    },
    {
      "metadata": {
        "id": "oug_uezFaaMo",
        "colab_type": "code",
        "colab": {}
      },
      "cell_type": "code",
      "source": [
        "jac_sim_all=map_reduce_parallel(my_doc,wc_mapper_parallelxx,wc_reducer_parallelxx_jac)"
      ],
      "execution_count": 0,
      "outputs": []
    },
    {
      "metadata": {
        "id": "5iI3248Q2cWW",
        "colab_type": "code",
        "outputId": "6197106b-f9e2-4a43-8fbc-9e8439abc9a5",
        "colab": {
          "base_uri": "https://localhost:8080/",
          "height": 35
        }
      },
      "cell_type": "code",
      "source": [
        "print('Map-reduce compute document 0 and document 1 similarity:',jac_sim_all[0])\n",
        "\n",
        "jac_df=pd.DataFrame(jac_sim_all,columns=['document','similiarity'])"
      ],
      "execution_count": 34,
      "outputs": [
        {
          "output_type": "stream",
          "text": [
            "Map-reduce compute document 0 and document 1 similarity: ((0, 1), 0.14382978723404255)\n"
          ],
          "name": "stdout"
        }
      ]
    },
    {
      "metadata": {
        "id": "9j7Uxzd8nfs_",
        "colab_type": "code",
        "colab": {
          "base_uri": "https://localhost:8080/",
          "height": 206
        },
        "outputId": "c4dc9272-1d46-4c3d-93a1-e2120ed66ad1"
      },
      "cell_type": "code",
      "source": [
        "jac_df.head()"
      ],
      "execution_count": 35,
      "outputs": [
        {
          "output_type": "execute_result",
          "data": {
            "text/html": [
              "<div>\n",
              "<style scoped>\n",
              "    .dataframe tbody tr th:only-of-type {\n",
              "        vertical-align: middle;\n",
              "    }\n",
              "\n",
              "    .dataframe tbody tr th {\n",
              "        vertical-align: top;\n",
              "    }\n",
              "\n",
              "    .dataframe thead th {\n",
              "        text-align: right;\n",
              "    }\n",
              "</style>\n",
              "<table border=\"1\" class=\"dataframe\">\n",
              "  <thead>\n",
              "    <tr style=\"text-align: right;\">\n",
              "      <th></th>\n",
              "      <th>document</th>\n",
              "      <th>similiarity</th>\n",
              "    </tr>\n",
              "  </thead>\n",
              "  <tbody>\n",
              "    <tr>\n",
              "      <th>0</th>\n",
              "      <td>(0, 1)</td>\n",
              "      <td>0.143830</td>\n",
              "    </tr>\n",
              "    <tr>\n",
              "      <th>1</th>\n",
              "      <td>(0, 2)</td>\n",
              "      <td>0.074879</td>\n",
              "    </tr>\n",
              "    <tr>\n",
              "      <th>2</th>\n",
              "      <td>(0, 3)</td>\n",
              "      <td>0.091792</td>\n",
              "    </tr>\n",
              "    <tr>\n",
              "      <th>3</th>\n",
              "      <td>(0, 4)</td>\n",
              "      <td>0.074675</td>\n",
              "    </tr>\n",
              "    <tr>\n",
              "      <th>4</th>\n",
              "      <td>(0, 5)</td>\n",
              "      <td>0.096541</td>\n",
              "    </tr>\n",
              "  </tbody>\n",
              "</table>\n",
              "</div>"
            ],
            "text/plain": [
              "  document  similiarity\n",
              "0   (0, 1)     0.143830\n",
              "1   (0, 2)     0.074879\n",
              "2   (0, 3)     0.091792\n",
              "3   (0, 4)     0.074675\n",
              "4   (0, 5)     0.096541"
            ]
          },
          "metadata": {
            "tags": []
          },
          "execution_count": 35
        }
      ]
    },
    {
      "metadata": {
        "id": "ClVtfUBMqPFu",
        "colab_type": "text"
      },
      "cell_type": "markdown",
      "source": [
        "Original Jaccard similarity measure"
      ]
    },
    {
      "metadata": {
        "id": "ntiKQtdn2ffJ",
        "colab_type": "code",
        "outputId": "3093d0ae-90a1-4dbc-bfa2-0519e1958d90",
        "colab": {
          "base_uri": "https://localhost:8080/",
          "height": 35
        }
      },
      "cell_type": "code",
      "source": [
        "print('Jaccrad similarity document 0 and document 1 similarity:',jac_sim(my_doc[0],my_doc[1]))"
      ],
      "execution_count": 77,
      "outputs": [
        {
          "output_type": "stream",
          "text": [
            "Jaccrad similarity document 0 and document 1 similarity: 0.14382978723404255\n"
          ],
          "name": "stdout"
        }
      ]
    },
    {
      "metadata": {
        "id": "zzMMgcfFnvpf",
        "colab_type": "code",
        "colab": {}
      },
      "cell_type": "code",
      "source": [
        "jac_o=[]\n",
        "for i in range(len(my_doc)-1):\n",
        "  for j in range(i+1, len(my_doc)):\n",
        "    sim_i_j = jac_sim(my_doc[i], my_doc[j])\n",
        "    jac_o.append(sim_i_j)"
      ],
      "execution_count": 0,
      "outputs": []
    },
    {
      "metadata": {
        "id": "eeJM0Lb-oXo8",
        "colab_type": "code",
        "colab": {
          "base_uri": "https://localhost:8080/",
          "height": 108
        },
        "outputId": "3b5f3c6c-7c0c-4dfd-a0a8-ba08ed28cdee"
      },
      "cell_type": "code",
      "source": [
        "#Only show first four similarity of the  all-pairs\n",
        "jac_o[:5]"
      ],
      "execution_count": 42,
      "outputs": [
        {
          "output_type": "execute_result",
          "data": {
            "text/plain": [
              "[0.14382978723404255,\n",
              " 0.0748792270531401,\n",
              " 0.09179170344218888,\n",
              " 0.07467532467532467,\n",
              " 0.09654062751407884]"
            ]
          },
          "metadata": {
            "tags": []
          },
          "execution_count": 42
        }
      ]
    },
    {
      "metadata": {
        "id": "lx4QwEZd2jGy",
        "colab_type": "text"
      },
      "cell_type": "markdown",
      "source": [
        "Cosine similarity map-reduce implementation"
      ]
    },
    {
      "metadata": {
        "id": "0MxEAxok2iA5",
        "colab_type": "code",
        "outputId": "4fcc2033-71aa-4ddf-edd0-e11d6bbd2091",
        "colab": {
          "base_uri": "https://localhost:8080/",
          "height": 54
        }
      },
      "cell_type": "code",
      "source": [
        "tests_pall(map_reduce_parallel,my_doc,wc_mapper_parallelxx,wc_reducer_parallelxx_cos,10)"
      ],
      "execution_count": 78,
      "outputs": [
        {
          "output_type": "stream",
          "text": [
            "(50 documents all-pair) parallel map-reduce similiarity average running time 0.5484013150995452\n"
          ],
          "name": "stdout"
        },
        {
          "output_type": "execute_result",
          "data": {
            "text/plain": [
              "0.5484013150995452"
            ]
          },
          "metadata": {
            "tags": []
          },
          "execution_count": 78
        }
      ]
    },
    {
      "metadata": {
        "id": "gQdBod7x8JF9",
        "colab_type": "code",
        "outputId": "702d062f-537e-4ea1-82e4-bb0d30b91276",
        "colab": {
          "base_uri": "https://localhost:8080/",
          "height": 54
        }
      },
      "cell_type": "code",
      "source": [
        "tests(cos_sim_nlp,10)"
      ],
      "execution_count": 79,
      "outputs": [
        {
          "output_type": "stream",
          "text": [
            "(50 documents all-pair) similiarity average running time 3.252834163400439\n"
          ],
          "name": "stdout"
        },
        {
          "output_type": "execute_result",
          "data": {
            "text/plain": [
              "3.252834163400439"
            ]
          },
          "metadata": {
            "tags": []
          },
          "execution_count": 79
        }
      ]
    },
    {
      "metadata": {
        "id": "pqubioGCZp-D",
        "colab_type": "text"
      },
      "cell_type": "markdown",
      "source": [
        "Make sure my cosine similiarity function empirically for correctness and for efficiency"
      ]
    },
    {
      "metadata": {
        "id": "ogQdYAsIp66A",
        "colab_type": "text"
      },
      "cell_type": "markdown",
      "source": [
        "Map-reduce"
      ]
    },
    {
      "metadata": {
        "id": "pKkh9FsNo-2d",
        "colab_type": "code",
        "colab": {}
      },
      "cell_type": "code",
      "source": [
        "cos_sim_all=map_reduce_parallel(my_doc,wc_mapper_parallelxx,wc_reducer_parallelxx_cos)"
      ],
      "execution_count": 0,
      "outputs": []
    },
    {
      "metadata": {
        "id": "fES9kMEx2md0",
        "colab_type": "code",
        "outputId": "805e312a-ec64-4826-d413-e75e717f3afa",
        "colab": {
          "base_uri": "https://localhost:8080/",
          "height": 35
        }
      },
      "cell_type": "code",
      "source": [
        "print('Map-reduce cosine measure document 0 and document 1 similarity:',cos_sim_all[0])"
      ],
      "execution_count": 53,
      "outputs": [
        {
          "output_type": "stream",
          "text": [
            "Map-reduce cosine measure document 0 and document 1 similarity: ((0, 1), 0.4670035096857264)\n"
          ],
          "name": "stdout"
        }
      ]
    },
    {
      "metadata": {
        "id": "lLnbRPJ4pR62",
        "colab_type": "code",
        "colab": {
          "base_uri": "https://localhost:8080/",
          "height": 206
        },
        "outputId": "87b1cd3c-7109-4683-8902-455b2d431665"
      },
      "cell_type": "code",
      "source": [
        "cos_df=pd.DataFrame(cos_sim_all,columns=['document','similiarity'])\n",
        "cos_df.head()"
      ],
      "execution_count": 50,
      "outputs": [
        {
          "output_type": "execute_result",
          "data": {
            "text/html": [
              "<div>\n",
              "<style scoped>\n",
              "    .dataframe tbody tr th:only-of-type {\n",
              "        vertical-align: middle;\n",
              "    }\n",
              "\n",
              "    .dataframe tbody tr th {\n",
              "        vertical-align: top;\n",
              "    }\n",
              "\n",
              "    .dataframe thead th {\n",
              "        text-align: right;\n",
              "    }\n",
              "</style>\n",
              "<table border=\"1\" class=\"dataframe\">\n",
              "  <thead>\n",
              "    <tr style=\"text-align: right;\">\n",
              "      <th></th>\n",
              "      <th>document</th>\n",
              "      <th>similiarity</th>\n",
              "    </tr>\n",
              "  </thead>\n",
              "  <tbody>\n",
              "    <tr>\n",
              "      <th>0</th>\n",
              "      <td>(0, 1)</td>\n",
              "      <td>0.467004</td>\n",
              "    </tr>\n",
              "    <tr>\n",
              "      <th>1</th>\n",
              "      <td>(0, 2)</td>\n",
              "      <td>0.371672</td>\n",
              "    </tr>\n",
              "    <tr>\n",
              "      <th>2</th>\n",
              "      <td>(0, 3)</td>\n",
              "      <td>0.406700</td>\n",
              "    </tr>\n",
              "    <tr>\n",
              "      <th>3</th>\n",
              "      <td>(0, 4)</td>\n",
              "      <td>0.376800</td>\n",
              "    </tr>\n",
              "    <tr>\n",
              "      <th>4</th>\n",
              "      <td>(0, 5)</td>\n",
              "      <td>0.331278</td>\n",
              "    </tr>\n",
              "  </tbody>\n",
              "</table>\n",
              "</div>"
            ],
            "text/plain": [
              "  document  similiarity\n",
              "0   (0, 1)     0.467004\n",
              "1   (0, 2)     0.371672\n",
              "2   (0, 3)     0.406700\n",
              "3   (0, 4)     0.376800\n",
              "4   (0, 5)     0.331278"
            ]
          },
          "metadata": {
            "tags": []
          },
          "execution_count": 50
        }
      ]
    },
    {
      "metadata": {
        "id": "WGNPYE9sp8_h",
        "colab_type": "text"
      },
      "cell_type": "markdown",
      "source": [
        "Original cosine measure"
      ]
    },
    {
      "metadata": {
        "id": "i8J1xOIj2oAD",
        "colab_type": "code",
        "outputId": "c0d5bd87-7f5a-47e5-d1de-dc7fa193b5a9",
        "colab": {
          "base_uri": "https://localhost:8080/",
          "height": 35
        }
      },
      "cell_type": "code",
      "source": [
        "print('document 0 and document 1 similarity:',cos_sim_nlp(my_doc[0],my_doc[1]))"
      ],
      "execution_count": 0,
      "outputs": [
        {
          "output_type": "stream",
          "text": [
            "document 0 and document 1 similarity: 0.4670035096857264\n"
          ],
          "name": "stdout"
        }
      ]
    },
    {
      "metadata": {
        "id": "6r-zhoE1peZE",
        "colab_type": "code",
        "colab": {}
      },
      "cell_type": "code",
      "source": [
        "cos_o=[]\n",
        "for i in range(len(my_doc)-1):\n",
        "  for j in range(i+1, len(my_doc)):\n",
        "    sim_i_j = jac_sim(my_doc[i], my_doc[j])\n",
        "    cos_o.append(sim_i_j)"
      ],
      "execution_count": 0,
      "outputs": []
    },
    {
      "metadata": {
        "id": "5LeWy7sDpvBv",
        "colab_type": "code",
        "colab": {
          "base_uri": "https://localhost:8080/",
          "height": 90
        },
        "outputId": "7ea4c836-1c09-4577-ca75-b2b258f1f996"
      },
      "cell_type": "code",
      "source": [
        " cos_o[:4]"
      ],
      "execution_count": 52,
      "outputs": [
        {
          "output_type": "execute_result",
          "data": {
            "text/plain": [
              "[0.14382978723404255,\n",
              " 0.0748792270531401,\n",
              " 0.09179170344218888,\n",
              " 0.07467532467532467]"
            ]
          },
          "metadata": {
            "tags": []
          },
          "execution_count": 52
        }
      ]
    },
    {
      "metadata": {
        "id": "_Ari-vTUvnid",
        "colab_type": "text"
      },
      "cell_type": "markdown",
      "source": [
        "Map-reduce achieves reliability by distributing large-scale operations to each node on the network; each node periodically returns its completed work and the latest state. In question 5,  I used the map-reduce computing paradigm to implement a parallel version of all-pairs similarities  for documents.  Firstly, before  I wrote the map and reduce computing paradigm to implement a parallel version of all-pairs similarities for documents, Documents need to compute all-pair  group. For example,  if we have 10 documnets, we need to compute  combination  of all documents to make a list. Moreover, map tasks (paralle mapper ) was written to divide the combination of  all documents and turn a chunk into a sequence of key-value pairs. The sequence  would store key-value pairs. For example, key-value (document1,(document 1 and document 2))-(1,(1,2)) and (document1,(document 1 and document 3))-(1,(1,3)) . It means It map all-pair  combination of individul documents. Futhermore,If a token w appears m times among all the documents assigned to a given map task, then there will be m key-value pairs (w,(w,m)) among its output. After map tasks, Key-value pairs are grouped by key and values associated with each key formed into a list of values. Finally,the Reduce function’s argument is a pair consisting of a key and a list of values. Moreover, I wrote the reduce task. This pair I have divide two reducer for Jaccard's similarity and cosine similarity. The reducer can compute the previous key-values pair. For two similarity reduce, if input (1,(1,2)) and(1,(1,3)) from the list of grouby.  Reducer can compute similarity of documents1 and 2, document 1 and 3 at same time by multiprocess parallel computing. Then, it can \n",
        "output is a sequence of 0 or more key-value pairs.For example, ((document1,document 2),similarity)-((1,2)sim). \n",
        "\n",
        "Comparing original similarity functions and Map-reduce through above experiments. Two method results were same. Moreover,according to the above average test results, average running time of the parallel version Jacarrd's similarity measure was significance lower than original Jaccard's measure when we have test 50 documents. Similarly, average running time of the parallel version cosine similarity measure also was smaller than original cosine measure. The reason is that  if we use 4 process to compute all-pairs similarity, they can run four programs at the same time. Therefore, when I applied map-reduce to compute similarity, its running time obviously lower than original similarity measure. \n"
      ]
    },
    {
      "metadata": {
        "id": "icZpmkLW1pei",
        "colab_type": "text"
      },
      "cell_type": "markdown",
      "source": [
        "### Summary\n",
        "\n",
        "This report has analysed Jaccard' similarity measure, cosine similarity measure, and map-reduce. Firstly, for question 1 and question 2, Jaccard's similarity measure worst running time and cosine similarity measure worst running time were analysed and estimate the constant for my implementation and computer. The results show that the time complexity of Jaccard's similarity measure, cosine similarity measure of documents represented as dense vectors and cosine similarity of numpy dot product were $ 𝑂(𝑛^{0.89}) $, $𝑂(𝑛^{0.755})$ and $𝑂(𝑛^{0.733}) $ respectively. According to the previous analysis, if the length of documents is an increase, Time complexity of three measure would close $O(n)$. Secondly, based on the analysis of question 2 and question 3, their results illustrate that Jaccard' similarity measure and cosine similarity of sparse (dictionary) representations have a similar growth trend. Their running time lower than cosine of vectors representations. So that, if we apply Jaccard' similarity measure and cosine similarity measure, processing speed will be faster. Finally, for the map-reduce computing paradigm to implement a parallel version of all-pairs similarities for documents, I wrote the map-reduce measure for Jaccard's similarity and cosine similarity to compute all-pairs similarity. Because it is multithread parallel computing that it can process multiple requests in parallel. Therefore, its process speed is significantly faster than the previous measure. Moreover, this is a map-reduce computing paradigm. if we use it to process mass data processing, this method reduced running time greatly and increased cutting efficiency available. "
      ]
    }
  ]
}